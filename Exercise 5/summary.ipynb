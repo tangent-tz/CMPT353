{
 "cells": [
  {
   "cell_type": "code",
   "execution_count": 1,
   "metadata": {
    "ExecuteTime": {
     "end_time": "2024-02-18T07:42:36.024795900Z",
     "start_time": "2024-02-18T07:42:35.278669500Z"
    }
   },
   "outputs": [],
   "source": [
    "import pandas as pd\n",
    "import glob\n",
    "import os"
   ]
  },
  {
   "cell_type": "code",
   "execution_count": 2,
   "metadata": {
    "collapsed": false,
    "jupyter": {
     "outputs_hidden": false
    },
    "ExecuteTime": {
     "end_time": "2024-02-18T07:42:36.036538Z",
     "start_time": "2024-02-18T07:42:36.025863700Z"
    }
   },
   "outputs": [],
   "source": [
    "path = os.getcwd()\n",
    "csv_files = glob.glob(os.path.join(path, \"data-*.csv\"))"
   ]
  },
  {
   "cell_type": "code",
   "execution_count": 3,
   "metadata": {
    "collapsed": false,
    "jupyter": {
     "outputs_hidden": false
    },
    "ExecuteTime": {
     "end_time": "2024-02-18T07:42:36.119934400Z",
     "start_time": "2024-02-18T07:42:36.039665Z"
    }
   },
   "outputs": [],
   "source": [
    "dataframes = {}\n",
    "for csv_file in csv_files:\n",
    "    key = os.path.basename(csv_file).split(\".\")[0]\n",
    "    dataframes[key] = pd.read_csv(csv_file)"
   ]
  },
  {
   "cell_type": "code",
   "execution_count": 4,
   "metadata": {
    "collapsed": false,
    "jupyter": {
     "outputs_hidden": false
    },
    "ExecuteTime": {
     "end_time": "2024-02-18T07:42:36.131405800Z",
     "start_time": "2024-02-18T07:42:36.116755200Z"
    }
   },
   "outputs": [],
   "source": [
    "temp_df = pd.DataFrame(columns=['file', 'mean_x', 'mean_y', 'std_x', 'std_y', 'min_x', 'max_x', 'min_y', 'max_y', 'correration_coefficient', 'description'])"
   ]
  },
  {
   "cell_type": "code",
   "execution_count": 5,
   "metadata": {
    "collapsed": false,
    "jupyter": {
     "outputs_hidden": false
    },
    "ExecuteTime": {
     "end_time": "2024-02-18T07:42:36.197086Z",
     "start_time": "2024-02-18T07:42:36.138932100Z"
    }
   },
   "outputs": [
    {
     "name": "stderr",
     "output_type": "stream",
     "text": [
      "C:\\Users\\Tanzil\\AppData\\Local\\Temp\\ipykernel_5040\\3098614106.py:14: FutureWarning: The behavior of DataFrame concatenation with empty or all-NA entries is deprecated. In a future version, this will no longer exclude empty or all-NA columns when determining the result dtypes. To retain the old behavior, exclude the relevant entries before the concat operation.\n",
      "  temp_df = temp_df._append(dataframe)\n"
     ]
    }
   ],
   "source": [
    "for key, df in dataframes.items():\n",
    "    filename = key\n",
    "    mean_x = df['x'].mean()\n",
    "    mean_y = df['y'].mean()\n",
    "    std_x = df['x'].std()\n",
    "    std_y = df['y'].std()\n",
    "    min_x = df['x'].min()\n",
    "    max_x = df['x'].max()\n",
    "    min_y = df['y'].min()\n",
    "    max_y = df['y'].max()\n",
    "    correration_coefficient = df['x'].corr(df['y'])\n",
    "    description = \"\"\n",
    "    dataframe = pd.DataFrame([[filename, mean_x, mean_y, std_x, std_y, min_x, max_x, min_y, max_y, correration_coefficient, description]], columns=['file', 'mean_x', 'mean_y', 'std_x', 'std_y', 'min_x', 'max_x', 'min_y', 'max_y', 'correration_coefficient', 'description'])\n",
    "    temp_df = temp_df._append(dataframe)\n",
    "temp_df.reset_index(drop=True, inplace=True)"
   ]
  },
  {
   "cell_type": "code",
   "execution_count": 6,
   "metadata": {
    "collapsed": false,
    "jupyter": {
     "outputs_hidden": false
    },
    "ExecuteTime": {
     "end_time": "2024-02-18T07:42:36.198084900Z",
     "start_time": "2024-02-18T07:42:36.179605400Z"
    }
   },
   "outputs": [],
   "source": [
    "temp_df.at[0, 'description'] = \"Strong positive correlation between X and Y\"\n",
    "temp_df.at[1, 'description'] = \"Strong positive correlation between X and Y\"\n",
    "temp_df.at[2, 'description'] = \"Very strong positive correlation between X and Y\"\n",
    "temp_df.at[3, 'description'] = \"Very weak negative correlation between X and Y\"\n",
    "temp_df.at[4, 'description'] = \"Very weak negative correlation between X and Y\"\n",
    "temp_df.at[5, 'description'] = \"Strong positive correlation between X and Y\""
   ]
  },
  {
   "cell_type": "code",
   "execution_count": 7,
   "metadata": {
    "collapsed": false,
    "jupyter": {
     "outputs_hidden": false
    },
    "ExecuteTime": {
     "end_time": "2024-02-18T07:42:36.341638400Z",
     "start_time": "2024-02-18T07:42:36.198084900Z"
    }
   },
   "outputs": [],
   "source": [
    "#save print to summart.txt\n",
    "with open('summary.txt', 'w') as f:\n",
    "    for index, row in temp_df.iterrows():\n",
    "        f.write(\"File: \" + row['file'] + \"\\n\")\n",
    "        f.write(\"\\tMean X: \" + str(row['mean_x']) + \"\\n\")\n",
    "        f.write(\"\\tMean Y: \" + str(row['mean_y']) + \"\\n\")\n",
    "        f.write(\"\\tStandard deviation X: \" + str(row['std_x']) + \"\\n\")\n",
    "        f.write(\"\\tStandard deviation Y: \" + str(row['std_y']) + \"\\n\")\n",
    "        f.write(\"\\tRange X: \" + str(row['min_x']) + \" - \" + str(row['max_x']) + \"\\n\")\n",
    "        f.write(\"\\tRange Y: \" + str(row['min_y']) + \" - \" + str(row['max_y']) + \"\\n\")\n",
    "        f.write(\"\\tCorrelation coefficient: \" + str(row['correration_coefficient']) + \"\\n\")\n",
    "        f.write(\"\\tDescription: \" + row['description'] + \"\\n\\n\")"
   ]
  }
 ],
 "metadata": {
  "kernelspec": {
   "display_name": "Python 3 (ipykernel)",
   "language": "python",
   "name": "python3"
  },
  "language_info": {
   "codemirror_mode": {
    "name": "ipython",
    "version": 3
   },
   "file_extension": ".py",
   "mimetype": "text/x-python",
   "name": "python",
   "nbconvert_exporter": "python",
   "pygments_lexer": "ipython3",
   "version": "3.10.10"
  }
 },
 "nbformat": 4,
 "nbformat_minor": 4
}
